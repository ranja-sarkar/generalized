{
 "cells": [
  {
   "attachments": {},
   "cell_type": "markdown",
   "metadata": {},
   "source": [
    "#Import libraries"
   ]
  },
  {
   "cell_type": "code",
   "execution_count": 1,
   "metadata": {},
   "outputs": [],
   "source": [
    "import pandas as pd\n",
    "#import dask.dataframe as dd\n",
    "\n",
    "#from pandasgui import show\n",
    "#import missingno as msn"
   ]
  },
  {
   "cell_type": "code",
   "execution_count": 4,
   "metadata": {},
   "outputs": [],
   "source": [
    "inputfile = 'AbbVie_Capstone.xlsx'"
   ]
  },
  {
   "cell_type": "code",
   "execution_count": 5,
   "metadata": {},
   "outputs": [],
   "source": [
    "#df1 = pd.read_excel(inputfile, sheet_name = 'Interaction')\n",
    "#df2 = pd.read_excel(inputfile, sheet_name = 'Content Access 1')\n",
    "#df3 = pd.read_excel(inputfile, sheet_name = 'Content Access 2')\n",
    "#df4 = pd.read_excel(inputfile, sheet_name = 'Specialist')\n",
    "df5 = pd.read_excel(inputfile, sheet_name = 'Campaign')\n",
    "df6 = pd.read_excel(inputfile, sheet_name = 'Collateral')"
   ]
  },
  {
   "cell_type": "code",
   "execution_count": 6,
   "metadata": {},
   "outputs": [
    {
     "name": "stdout",
     "output_type": "stream",
     "text": [
      "<class 'pandas.core.frame.DataFrame'>\n",
      "Int64Index: 2592783 entries, 0 to 2592782\n",
      "Data columns (total 11 columns):\n",
      " #   Column               Dtype         \n",
      "---  ------               -----         \n",
      " 0   patient_id           int64         \n",
      " 1   campaign date        datetime64[ns]\n",
      " 2   engager              object        \n",
      " 3   channel_descrip      object        \n",
      " 4   delivery status      object        \n",
      " 5   brand_ind            object        \n",
      " 6   marketing_objective  object        \n",
      " 7   service call date    datetime64[ns]\n",
      " 8   provided             float64       \n",
      " 9   discussed            float64       \n",
      " 10  ordered              float64       \n",
      "dtypes: datetime64[ns](2), float64(3), int64(1), object(5)\n",
      "memory usage: 237.4+ MB\n"
     ]
    }
   ],
   "source": [
    "df0 = pd.merge(df5, df6, how = 'outer') #Support service <-> Collateral\n",
    "df0.info()                              #Campaign+Collateral"
   ]
  },
  {
   "cell_type": "code",
   "execution_count": 7,
   "metadata": {},
   "outputs": [
    {
     "data": {
      "text/plain": [
       "patient_id             2592783\n",
       "campaign date          2592783\n",
       "engager                2592783\n",
       "channel_descrip        2592783\n",
       "delivery status        2592783\n",
       "brand_ind              2592783\n",
       "marketing_objective    2592783\n",
       "service call date      2591472\n",
       "provided               2591472\n",
       "discussed              2591472\n",
       "ordered                2591472\n",
       "dtype: int64"
      ]
     },
     "execution_count": 7,
     "metadata": {},
     "output_type": "execute_result"
    }
   ],
   "source": [
    "df0.count()"
   ]
  },
  {
   "cell_type": "code",
   "execution_count": 12,
   "metadata": {},
   "outputs": [],
   "source": [
    "df0.to_csv('Campaign+Collateral.csv', index = False)"
   ]
  },
  {
   "cell_type": "code",
   "execution_count": 13,
   "metadata": {},
   "outputs": [
    {
     "name": "stdout",
     "output_type": "stream",
     "text": [
      "2994 20913\n"
     ]
    }
   ],
   "source": [
    "print(len(df0['patient_id'].unique()), len(df0[df0.duplicated()]))"
   ]
  },
  {
   "cell_type": "code",
   "execution_count": null,
   "metadata": {},
   "outputs": [],
   "source": []
  },
  {
   "cell_type": "code",
   "execution_count": null,
   "metadata": {},
   "outputs": [],
   "source": []
  },
  {
   "cell_type": "code",
   "execution_count": null,
   "metadata": {},
   "outputs": [],
   "source": []
  },
  {
   "cell_type": "code",
   "execution_count": null,
   "metadata": {},
   "outputs": [],
   "source": []
  },
  {
   "cell_type": "code",
   "execution_count": null,
   "metadata": {},
   "outputs": [],
   "source": []
  },
  {
   "cell_type": "code",
   "execution_count": 4,
   "metadata": {},
   "outputs": [
    {
     "name": "stdout",
     "output_type": "stream",
     "text": [
      "<class 'pandas.core.frame.DataFrame'>\n",
      "Int64Index: 920743 entries, 0 to 920742\n",
      "Data columns (total 20 columns):\n",
      " #   Column               Non-Null Count   Dtype         \n",
      "---  ------               --------------   -----         \n",
      " 0   account_record_type  920743 non-null  object        \n",
      " 1   HCP type             920743 non-null  object        \n",
      " 2   enrollment_status    920650 non-null  object        \n",
      " 3   Months on program    638803 non-null  float64       \n",
      " 4   Months on therapy    579975 non-null  float64       \n",
      " 5   sent_date            829307 non-null  datetime64[ns]\n",
      " 6   status               808609 non-null  object        \n",
      " 7   last_click           36491 non-null   object        \n",
      " 8   last_open            534879 non-null  object        \n",
      " 9   total_clicks         829307 non-null  float64       \n",
      " 10  total_opens          808609 non-null  float64       \n",
      " 11  opened               920743 non-null  int64         \n",
      " 12  patient_id           920743 non-null  int64         \n",
      " 13  document_views       163072 non-null  float64       \n",
      " 14  territory            254508 non-null  object        \n",
      " 15  call date            920740 non-null  datetime64[ns]\n",
      " 16  Outcome              920740 non-null  float64       \n",
      " 17  duration             914455 non-null  float64       \n",
      " 18  delivery_channel     918357 non-null  object        \n",
      " 19  type of call         864405 non-null  object        \n",
      "dtypes: datetime64[ns](2), float64(7), int64(2), object(9)\n",
      "memory usage: 147.5+ MB\n"
     ]
    }
   ],
   "source": [
    "df0 = pd.merge(df2, df3, how = 'outer') #Content Access <-> Email\n",
    "dff = pd.merge(df0, df4, how = 'outer')\n",
    "dff.info()   #Specialist+Email"
   ]
  },
  {
   "cell_type": "code",
   "execution_count": 5,
   "metadata": {},
   "outputs": [
    {
     "name": "stdout",
     "output_type": "stream",
     "text": [
      "<class 'pandas.core.frame.DataFrame'>\n",
      "Int64Index: 920743 entries, 0 to 920742\n",
      "Data columns (total 16 columns):\n",
      " #   Column               Non-Null Count   Dtype         \n",
      "---  ------               --------------   -----         \n",
      " 0   account_record_type  920743 non-null  object        \n",
      " 1   HCP type             920743 non-null  object        \n",
      " 2   enrollment_status    920650 non-null  object        \n",
      " 3   Months on program    638803 non-null  float64       \n",
      " 4   Months on therapy    579975 non-null  float64       \n",
      " 5   sent_date            829307 non-null  datetime64[ns]\n",
      " 6   status               808609 non-null  object        \n",
      " 7   total_opens          808609 non-null  float64       \n",
      " 8   opened               920743 non-null  int64         \n",
      " 9   patient_id           920743 non-null  int64         \n",
      " 10  territory            254508 non-null  object        \n",
      " 11  call date            920740 non-null  datetime64[ns]\n",
      " 12  Outcome              920740 non-null  float64       \n",
      " 13  duration             914455 non-null  float64       \n",
      " 14  delivery_channel     918357 non-null  object        \n",
      " 15  type of call         864405 non-null  object        \n",
      "dtypes: datetime64[ns](2), float64(5), int64(2), object(7)\n",
      "memory usage: 119.4+ MB\n"
     ]
    }
   ],
   "source": [
    "dff = dff.drop(['last_click', 'last_open', 'total_clicks','document_views'], axis = 1) \n",
    "dff.info()"
   ]
  },
  {
   "cell_type": "code",
   "execution_count": 7,
   "metadata": {},
   "outputs": [
    {
     "data": {
      "text/plain": [
       "array(['Unknown', 't1', 't5', 't4', 't2', 't3'], dtype=object)"
      ]
     },
     "execution_count": 7,
     "metadata": {},
     "output_type": "execute_result"
    }
   ],
   "source": [
    "dff['territory'] = dff['territory'].fillna('Unknown')\n",
    "dff['territory'].unique()"
   ]
  },
  {
   "cell_type": "code",
   "execution_count": 9,
   "metadata": {},
   "outputs": [],
   "source": [
    "dff['enrollment_status'] = dff['enrollment_status'].replace(['AMB Resource Triage Specialist','Triage'],'ARTS')"
   ]
  },
  {
   "cell_type": "code",
   "execution_count": 11,
   "metadata": {},
   "outputs": [],
   "source": [
    "dff['enrollment_status'] = dff['enrollment_status'].fillna('Unknown')"
   ]
  },
  {
   "cell_type": "code",
   "execution_count": 13,
   "metadata": {},
   "outputs": [],
   "source": [
    "dff['enrollment_status'] = dff['enrollment_status'].replace(['Special'],'Specialist')"
   ]
  },
  {
   "cell_type": "code",
   "execution_count": 22,
   "metadata": {},
   "outputs": [],
   "source": [
    "dff.to_csv('Specialist+Email.csv', index = False)"
   ]
  },
  {
   "cell_type": "code",
   "execution_count": null,
   "metadata": {},
   "outputs": [],
   "source": []
  },
  {
   "cell_type": "code",
   "execution_count": null,
   "metadata": {},
   "outputs": [],
   "source": []
  },
  {
   "cell_type": "code",
   "execution_count": 23,
   "metadata": {},
   "outputs": [
    {
     "name": "stdout",
     "output_type": "stream",
     "text": [
      "<class 'pandas.core.frame.DataFrame'>\n",
      "Int64Index: 2885871 entries, 0 to 2885870\n",
      "Data columns (total 17 columns):\n",
      " #   Column               Dtype         \n",
      "---  ------               -----         \n",
      " 0   patient_id           int64         \n",
      " 1   service              object        \n",
      " 2   date of interaction  datetime64[ns]\n",
      " 3   account_record_type  object        \n",
      " 4   HCP type             object        \n",
      " 5   enrollment_status    object        \n",
      " 6   Months on program    float64       \n",
      " 7   Months on therapy    float64       \n",
      " 8   sent_date            datetime64[ns]\n",
      " 9   status               object        \n",
      " 10  last_click           object        \n",
      " 11  last_open            object        \n",
      " 12  total_clicks         float64       \n",
      " 13  total_opens          float64       \n",
      " 14  opened               int64         \n",
      " 15  document_views       float64       \n",
      " 16  territory            object        \n",
      "dtypes: datetime64[ns](2), float64(5), int64(2), object(8)\n",
      "memory usage: 396.3+ MB\n"
     ]
    }
   ],
   "source": [
    "df_1 = pd.merge(df1, df2, how = 'outer')\n",
    "df_2 = pd.merge(df_1, df3, how = 'outer')\n",
    "df_2.info()                                   #Interaction+Content Access"
   ]
  },
  {
   "cell_type": "code",
   "execution_count": 24,
   "metadata": {},
   "outputs": [
    {
     "data": {
      "text/plain": [
       "patient_id             2885871\n",
       "service                2883289\n",
       "date of interaction    2883289\n",
       "account_record_type    2885871\n",
       "HCP type               2885871\n",
       "enrollment_status      2885868\n",
       "Months on program      2190956\n",
       "Months on therapy      1914177\n",
       "sent_date              2883816\n",
       "status                 2883289\n",
       "total_opens            2883289\n",
       "opened                 2885871\n",
       "territory               438761\n",
       "dtype: int64"
      ]
     },
     "execution_count": 24,
     "metadata": {},
     "output_type": "execute_result"
    }
   ],
   "source": [
    "df_2 = df_2.drop(['last_click', 'last_open', 'total_clicks','document_views'], axis = 1) \n",
    "df_2.count()"
   ]
  },
  {
   "cell_type": "code",
   "execution_count": 25,
   "metadata": {},
   "outputs": [
    {
     "name": "stdout",
     "output_type": "stream",
     "text": [
      "2994 13323\n"
     ]
    }
   ],
   "source": [
    "print(len(df_2['patient_id'].unique()), len(df_2[df_2.duplicated()]))"
   ]
  },
  {
   "cell_type": "code",
   "execution_count": 26,
   "metadata": {},
   "outputs": [
    {
     "data": {
      "text/html": [
       "<div>\n",
       "<style scoped>\n",
       "    .dataframe tbody tr th:only-of-type {\n",
       "        vertical-align: middle;\n",
       "    }\n",
       "\n",
       "    .dataframe tbody tr th {\n",
       "        vertical-align: top;\n",
       "    }\n",
       "\n",
       "    .dataframe thead th {\n",
       "        text-align: right;\n",
       "    }\n",
       "</style>\n",
       "<table border=\"1\" class=\"dataframe\">\n",
       "  <thead>\n",
       "    <tr style=\"text-align: right;\">\n",
       "      <th></th>\n",
       "      <th>patient_id</th>\n",
       "      <th>service</th>\n",
       "      <th>date of interaction</th>\n",
       "      <th>account_record_type</th>\n",
       "      <th>HCP type</th>\n",
       "      <th>enrollment_status</th>\n",
       "      <th>Months on program</th>\n",
       "      <th>Months on therapy</th>\n",
       "      <th>sent_date</th>\n",
       "      <th>status</th>\n",
       "      <th>total_opens</th>\n",
       "      <th>opened</th>\n",
       "      <th>territory</th>\n",
       "    </tr>\n",
       "  </thead>\n",
       "  <tbody>\n",
       "    <tr>\n",
       "      <th>0</th>\n",
       "      <td>2038844</td>\n",
       "      <td>Support_person</td>\n",
       "      <td>2018-05-22</td>\n",
       "      <td>Adult</td>\n",
       "      <td>type4</td>\n",
       "      <td>Specialist</td>\n",
       "      <td>NaN</td>\n",
       "      <td>NaN</td>\n",
       "      <td>2019-09-11 15:38:00</td>\n",
       "      <td>Delivered</td>\n",
       "      <td>0.0</td>\n",
       "      <td>0</td>\n",
       "      <td>NaN</td>\n",
       "    </tr>\n",
       "    <tr>\n",
       "      <th>1</th>\n",
       "      <td>2038844</td>\n",
       "      <td>Collateral</td>\n",
       "      <td>2018-05-23</td>\n",
       "      <td>Adult</td>\n",
       "      <td>type4</td>\n",
       "      <td>Specialist</td>\n",
       "      <td>NaN</td>\n",
       "      <td>NaN</td>\n",
       "      <td>2019-09-11 15:38:00</td>\n",
       "      <td>Delivered</td>\n",
       "      <td>0.0</td>\n",
       "      <td>0</td>\n",
       "      <td>NaN</td>\n",
       "    </tr>\n",
       "    <tr>\n",
       "      <th>2</th>\n",
       "      <td>2038844</td>\n",
       "      <td>Support_person</td>\n",
       "      <td>2018-05-23</td>\n",
       "      <td>Adult</td>\n",
       "      <td>type4</td>\n",
       "      <td>Specialist</td>\n",
       "      <td>NaN</td>\n",
       "      <td>NaN</td>\n",
       "      <td>2019-09-11 15:38:00</td>\n",
       "      <td>Delivered</td>\n",
       "      <td>0.0</td>\n",
       "      <td>0</td>\n",
       "      <td>NaN</td>\n",
       "    </tr>\n",
       "    <tr>\n",
       "      <th>3</th>\n",
       "      <td>2038844</td>\n",
       "      <td>App</td>\n",
       "      <td>2018-05-24</td>\n",
       "      <td>Adult</td>\n",
       "      <td>type4</td>\n",
       "      <td>Specialist</td>\n",
       "      <td>NaN</td>\n",
       "      <td>NaN</td>\n",
       "      <td>2019-09-11 15:38:00</td>\n",
       "      <td>Delivered</td>\n",
       "      <td>0.0</td>\n",
       "      <td>0</td>\n",
       "      <td>NaN</td>\n",
       "    </tr>\n",
       "    <tr>\n",
       "      <th>4</th>\n",
       "      <td>2038844</td>\n",
       "      <td>Email</td>\n",
       "      <td>2018-05-24</td>\n",
       "      <td>Adult</td>\n",
       "      <td>type4</td>\n",
       "      <td>Specialist</td>\n",
       "      <td>NaN</td>\n",
       "      <td>NaN</td>\n",
       "      <td>2019-09-11 15:38:00</td>\n",
       "      <td>Delivered</td>\n",
       "      <td>0.0</td>\n",
       "      <td>0</td>\n",
       "      <td>NaN</td>\n",
       "    </tr>\n",
       "  </tbody>\n",
       "</table>\n",
       "</div>"
      ],
      "text/plain": [
       "   patient_id         service date of interaction account_record_type  \\\n",
       "0     2038844  Support_person          2018-05-22               Adult   \n",
       "1     2038844      Collateral          2018-05-23               Adult   \n",
       "2     2038844  Support_person          2018-05-23               Adult   \n",
       "3     2038844             App          2018-05-24               Adult   \n",
       "4     2038844           Email          2018-05-24               Adult   \n",
       "\n",
       "  HCP type enrollment_status  Months on program  Months on therapy  \\\n",
       "0    type4        Specialist                NaN                NaN   \n",
       "1    type4        Specialist                NaN                NaN   \n",
       "2    type4        Specialist                NaN                NaN   \n",
       "3    type4        Specialist                NaN                NaN   \n",
       "4    type4        Specialist                NaN                NaN   \n",
       "\n",
       "            sent_date     status  total_opens  opened territory  \n",
       "0 2019-09-11 15:38:00  Delivered          0.0       0       NaN  \n",
       "1 2019-09-11 15:38:00  Delivered          0.0       0       NaN  \n",
       "2 2019-09-11 15:38:00  Delivered          0.0       0       NaN  \n",
       "3 2019-09-11 15:38:00  Delivered          0.0       0       NaN  \n",
       "4 2019-09-11 15:38:00  Delivered          0.0       0       NaN  "
      ]
     },
     "execution_count": 26,
     "metadata": {},
     "output_type": "execute_result"
    }
   ],
   "source": [
    "df_2.head(5)"
   ]
  },
  {
   "cell_type": "code",
   "execution_count": 27,
   "metadata": {},
   "outputs": [
    {
     "data": {
      "text/plain": [
       "array(['Unknown', 't2', 't3', 't1', 't4', 't5'], dtype=object)"
      ]
     },
     "execution_count": 27,
     "metadata": {},
     "output_type": "execute_result"
    }
   ],
   "source": [
    "df_2['territory'] = df_2['territory'].fillna('Unknown')\n",
    "df_2['territory'].unique()"
   ]
  },
  {
   "cell_type": "code",
   "execution_count": 28,
   "metadata": {},
   "outputs": [
    {
     "data": {
      "text/plain": [
       "array(['Specialist', 'Not Engaged', 'Hybrid Agent', 'Field Agent',\n",
       "       'National Agent', 'Management Level', 'Local Agent', 'Ineligible',\n",
       "       'ARTS', 'Unknown'], dtype=object)"
      ]
     },
     "execution_count": 28,
     "metadata": {},
     "output_type": "execute_result"
    }
   ],
   "source": [
    "df_2['enrollment_status'] = df_2['enrollment_status'].replace(['AMB Resource Triage Specialist','Triage', 'Special'],['ARTS', 'ARTS', 'Specialist'])\n",
    "df_2['enrollment_status'] = df_2['enrollment_status'].fillna('Unknown')\n",
    "df_2['enrollment_status'].unique()"
   ]
  },
  {
   "cell_type": "code",
   "execution_count": 30,
   "metadata": {},
   "outputs": [
    {
     "data": {
      "text/plain": [
       "array(['Delivered', 'Dropped', 'Bounced', 'Unsubscribed', 'Sent',\n",
       "       'Marked Spam', 'Unknown'], dtype=object)"
      ]
     },
     "execution_count": 30,
     "metadata": {},
     "output_type": "execute_result"
    }
   ],
   "source": [
    "df_2['status'] = df_2['status'].fillna('Unknown')\n",
    "df_2['status'].unique()"
   ]
  },
  {
   "cell_type": "code",
   "execution_count": null,
   "metadata": {},
   "outputs": [],
   "source": []
  },
  {
   "cell_type": "code",
   "execution_count": 33,
   "metadata": {},
   "outputs": [],
   "source": [
    "df_2.to_csv('Interaction+Email.csv', index = False)"
   ]
  },
  {
   "cell_type": "code",
   "execution_count": null,
   "metadata": {},
   "outputs": [],
   "source": []
  },
  {
   "cell_type": "code",
   "execution_count": null,
   "metadata": {},
   "outputs": [],
   "source": []
  },
  {
   "attachments": {},
   "cell_type": "markdown",
   "metadata": {},
   "source": [
    "Whether a collateral is ordered/provided by/to a patient is what's important, irrespective of if it's discussed. Hence, dropping off 'discussed'."
   ]
  },
  {
   "cell_type": "code",
   "execution_count": 15,
   "metadata": {},
   "outputs": [
    {
     "data": {
      "text/plain": [
       "Index(['patient_id', 'campaign date', 'engager', 'channel_descrip',\n",
       "       'delivery status', 'brand_ind', 'marketing_objective',\n",
       "       'service call date', 'provided', 'ordered'],\n",
       "      dtype='object')"
      ]
     },
     "execution_count": 15,
     "metadata": {},
     "output_type": "execute_result"
    }
   ],
   "source": [
    "df2 = df2.drop(['discussed'], axis = 1) \n",
    "df2.columns"
   ]
  },
  {
   "cell_type": "code",
   "execution_count": 16,
   "metadata": {},
   "outputs": [],
   "source": [
    "#df2.to_csv('Campaign+Collateral.csv', index = False)"
   ]
  },
  {
   "cell_type": "code",
   "execution_count": null,
   "metadata": {},
   "outputs": [],
   "source": []
  },
  {
   "cell_type": "code",
   "execution_count": null,
   "metadata": {},
   "outputs": [],
   "source": []
  },
  {
   "cell_type": "code",
   "execution_count": null,
   "metadata": {},
   "outputs": [],
   "source": []
  },
  {
   "attachments": {},
   "cell_type": "markdown",
   "metadata": {},
   "source": [
    "Whether outcome is successful or not is what's important, irrespective of the duration of call/mail. \n",
    "Hence, dropping off 'duration'."
   ]
  },
  {
   "cell_type": "code",
   "execution_count": 20,
   "metadata": {},
   "outputs": [
    {
     "data": {
      "text/plain": [
       "Index(['call date', 'Outcome', 'delivery_channel', 'type of call',\n",
       "       'patient_id', 'account_record_type', 'HCP type', 'enrollment_status',\n",
       "       'Months on program', 'months on the therapy', 'sent_date', 'status',\n",
       "       'total_opens', 'opened', 'territory'],\n",
       "      dtype='object')"
      ]
     },
     "execution_count": 20,
     "metadata": {},
     "output_type": "execute_result"
    }
   ],
   "source": [
    "df3 = df3.drop(['duration'], axis = 1) \n",
    "df3.columns"
   ]
  },
  {
   "cell_type": "code",
   "execution_count": 21,
   "metadata": {},
   "outputs": [],
   "source": [
    "#df3.to_csv('Specialist+Email.csv', index = False)"
   ]
  },
  {
   "cell_type": "code",
   "execution_count": null,
   "metadata": {},
   "outputs": [],
   "source": []
  },
  {
   "cell_type": "code",
   "execution_count": null,
   "metadata": {},
   "outputs": [],
   "source": []
  },
  {
   "cell_type": "code",
   "execution_count": null,
   "metadata": {},
   "outputs": [],
   "source": []
  },
  {
   "attachments": {},
   "cell_type": "markdown",
   "metadata": {},
   "source": [
    "Feature relevance for categorical variables"
   ]
  },
  {
   "cell_type": "code",
   "execution_count": null,
   "metadata": {},
   "outputs": [],
   "source": [
    "#from scipy.stats import f_oneway\n",
    "\n",
    "#def calc_feature_relevance(df, feature, target):\n",
    "#    idxs_by_class = [df[df[target_name] == v].index for v in df[target_name].unique()]\n",
    "#    groups = [df.loc[class_idxs, feature].values for class_idxs in idxs_by_class]\n",
    "#    return f_oneway(groups).statistic"
   ]
  },
  {
   "cell_type": "code",
   "execution_count": null,
   "metadata": {},
   "outputs": [],
   "source": []
  },
  {
   "cell_type": "code",
   "execution_count": null,
   "metadata": {},
   "outputs": [],
   "source": []
  },
  {
   "cell_type": "code",
   "execution_count": null,
   "metadata": {},
   "outputs": [],
   "source": []
  }
 ],
 "metadata": {
  "kernelspec": {
   "display_name": "Python 3 (ipykernel)",
   "language": "python",
   "name": "python3"
  },
  "language_info": {
   "codemirror_mode": {
    "name": "ipython",
    "version": 3
   },
   "file_extension": ".py",
   "mimetype": "text/x-python",
   "name": "python",
   "nbconvert_exporter": "python",
   "pygments_lexer": "ipython3",
   "version": "3.10.8"
  },
  "vscode": {
   "interpreter": {
    "hash": "42231b65e1786e7daa5ad38de54c2b375375a5c800a17b757e94120e2e33e88e"
   }
  }
 },
 "nbformat": 4,
 "nbformat_minor": 4
}
