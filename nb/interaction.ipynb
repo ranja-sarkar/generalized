{
 "cells": [
  {
   "attachments": {},
   "cell_type": "markdown",
   "metadata": {},
   "source": [
    "#Import libraries"
   ]
  },
  {
   "cell_type": "code",
   "execution_count": 1,
   "metadata": {},
   "outputs": [],
   "source": [
    "import pandas as pd\n",
    "from kmodes.kmodes import KModes\n",
    "import matplotlib.pyplot as plt\n"
   ]
  },
  {
   "cell_type": "code",
   "execution_count": 4,
   "metadata": {},
   "outputs": [],
   "source": [
    "#inputfile = 'AbbVie_Capstone.xlsx'\n",
    "#df1 = pd.read_excel(inputfile, sheet_name = 'Interaction')\n",
    "\n",
    "\n",
    "#df1.groupby('patient_id').count()\n",
    "#df2 = pd.DataFrame(df1.query(\"patient_id == 204\")[\"service\"])\n",
    "#df2.groupby('service').count()\n",
    "\n",
    "#df1.groupby('service').count()\n",
    "#df2 = pd.DataFrame(df1.query(\"service == 'App'\")[\"patient_id\"])\n",
    "#df2.groupby('patient_id').count()"
   ]
  },
  {
   "cell_type": "code",
   "execution_count": 2,
   "metadata": {},
   "outputs": [
    {
     "name": "stderr",
     "output_type": "stream",
     "text": [
      "C:\\Users\\RanjaSarkar\\AppData\\Local\\Temp\\ipykernel_21060\\1674476410.py:2: DtypeWarning: Columns (1,2) have mixed types. Specify dtype option on import or set low_memory=False.\n",
      "  df2 = pd.read_csv('Interaction+Email.csv')\n"
     ]
    }
   ],
   "source": [
    "df1 = pd.read_csv('Interaction+demography+payor.csv')\n",
    "df2 = pd.read_csv('Interaction+Email.csv')"
   ]
  },
  {
   "cell_type": "code",
   "execution_count": 3,
   "metadata": {},
   "outputs": [],
   "source": [
    "df_1 = df1[['patient_id', 'service', 'date of interaction', 'enrolled_channel','gender', 'age', 'payor']]"
   ]
  },
  {
   "cell_type": "code",
   "execution_count": 4,
   "metadata": {},
   "outputs": [],
   "source": [
    "df_2 = df2[['patient_id', 'service', 'date of interaction', 'HCP type', 'enrollment_status', 'Months on program','Months on therapy', 'territory']]\n"
   ]
  },
  {
   "cell_type": "code",
   "execution_count": 5,
   "metadata": {},
   "outputs": [
    {
     "data": {
      "text/plain": [
       "((2540922, 7), (2885871, 8))"
      ]
     },
     "execution_count": 5,
     "metadata": {},
     "output_type": "execute_result"
    }
   ],
   "source": [
    "df_1.shape, df_2.shape"
   ]
  },
  {
   "cell_type": "code",
   "execution_count": 6,
   "metadata": {},
   "outputs": [
    {
     "name": "stdout",
     "output_type": "stream",
     "text": [
      "<class 'pandas.core.frame.DataFrame'>\n",
      "Int64Index: 15713603 entries, 0 to 15713602\n",
      "Data columns (total 12 columns):\n",
      " #   Column               Dtype  \n",
      "---  ------               -----  \n",
      " 0   patient_id           int64  \n",
      " 1   service              object \n",
      " 2   date of interaction  object \n",
      " 3   enrolled_channel     object \n",
      " 4   gender               object \n",
      " 5   age                  object \n",
      " 6   payor                object \n",
      " 7   HCP type             object \n",
      " 8   enrollment_status    object \n",
      " 9   Months on program    float64\n",
      " 10  Months on therapy    float64\n",
      " 11  territory            object \n",
      "dtypes: float64(2), int64(1), object(9)\n",
      "memory usage: 1.5+ GB\n"
     ]
    }
   ],
   "source": [
    "dff = pd.merge(df_1, df_2, how = 'outer')\n",
    "dff.info()"
   ]
  },
  {
   "cell_type": "code",
   "execution_count": 7,
   "metadata": {},
   "outputs": [],
   "source": [
    "#len(dff[dff.duplicated()])\n",
    "df0 = dff.drop_duplicates()"
   ]
  },
  {
   "cell_type": "code",
   "execution_count": 39,
   "metadata": {},
   "outputs": [],
   "source": [
    "#df0.count()"
   ]
  },
  {
   "cell_type": "code",
   "execution_count": 8,
   "metadata": {},
   "outputs": [
    {
     "name": "stderr",
     "output_type": "stream",
     "text": [
      "C:\\Users\\RanjaSarkar\\AppData\\Local\\Temp\\ipykernel_21060\\14065172.py:1: SettingWithCopyWarning: \n",
      "A value is trying to be set on a copy of a slice from a DataFrame\n",
      "\n",
      "See the caveats in the documentation: https://pandas.pydata.org/pandas-docs/stable/user_guide/indexing.html#returning-a-view-versus-a-copy\n",
      "  df0.dropna(inplace = True) #drop blanks from columns in the dataframe\n"
     ]
    }
   ],
   "source": [
    "df0.dropna(inplace = True) #drop blanks from columns in the dataframe"
   ]
  },
  {
   "cell_type": "code",
   "execution_count": 9,
   "metadata": {},
   "outputs": [
    {
     "data": {
      "text/html": [
       "<div>\n",
       "<style scoped>\n",
       "    .dataframe tbody tr th:only-of-type {\n",
       "        vertical-align: middle;\n",
       "    }\n",
       "\n",
       "    .dataframe tbody tr th {\n",
       "        vertical-align: top;\n",
       "    }\n",
       "\n",
       "    .dataframe thead th {\n",
       "        text-align: right;\n",
       "    }\n",
       "</style>\n",
       "<table border=\"1\" class=\"dataframe\">\n",
       "  <thead>\n",
       "    <tr style=\"text-align: right;\">\n",
       "      <th></th>\n",
       "      <th>patient_id</th>\n",
       "      <th>service</th>\n",
       "      <th>date of interaction</th>\n",
       "      <th>enrolled_channel</th>\n",
       "      <th>gender</th>\n",
       "      <th>age</th>\n",
       "      <th>payor</th>\n",
       "      <th>HCP type</th>\n",
       "      <th>enrollment_status</th>\n",
       "      <th>Months on program</th>\n",
       "      <th>Months on therapy</th>\n",
       "      <th>territory</th>\n",
       "    </tr>\n",
       "  </thead>\n",
       "  <tbody>\n",
       "    <tr>\n",
       "      <th>1792</th>\n",
       "      <td>20401322</td>\n",
       "      <td>Email</td>\n",
       "      <td>2017-06-28 00:00:00</td>\n",
       "      <td>skype</td>\n",
       "      <td>F</td>\n",
       "      <td>41-65</td>\n",
       "      <td>Commercial</td>\n",
       "      <td>type2</td>\n",
       "      <td>Specialist</td>\n",
       "      <td>48.0</td>\n",
       "      <td>46.6</td>\n",
       "      <td>Unknown</td>\n",
       "    </tr>\n",
       "    <tr>\n",
       "      <th>1795</th>\n",
       "      <td>20401322</td>\n",
       "      <td>Email</td>\n",
       "      <td>2017-06-28 00:00:00</td>\n",
       "      <td>skype</td>\n",
       "      <td>F</td>\n",
       "      <td>41-65</td>\n",
       "      <td>Commercial</td>\n",
       "      <td>type2</td>\n",
       "      <td>Specialist</td>\n",
       "      <td>48.0</td>\n",
       "      <td>46.6</td>\n",
       "      <td>t2</td>\n",
       "    </tr>\n",
       "    <tr>\n",
       "      <th>1797</th>\n",
       "      <td>20401322</td>\n",
       "      <td>Email</td>\n",
       "      <td>2017-06-28 00:00:00</td>\n",
       "      <td>skype</td>\n",
       "      <td>F</td>\n",
       "      <td>41-65</td>\n",
       "      <td>Commercial</td>\n",
       "      <td>type2</td>\n",
       "      <td>Specialist</td>\n",
       "      <td>56.0</td>\n",
       "      <td>54.6</td>\n",
       "      <td>Unknown</td>\n",
       "    </tr>\n",
       "    <tr>\n",
       "      <th>1822</th>\n",
       "      <td>20401322</td>\n",
       "      <td>HPS_low</td>\n",
       "      <td>2017-06-28 00:00:00</td>\n",
       "      <td>skype</td>\n",
       "      <td>F</td>\n",
       "      <td>41-65</td>\n",
       "      <td>Commercial</td>\n",
       "      <td>type2</td>\n",
       "      <td>Specialist</td>\n",
       "      <td>48.0</td>\n",
       "      <td>46.6</td>\n",
       "      <td>Unknown</td>\n",
       "    </tr>\n",
       "    <tr>\n",
       "      <th>1825</th>\n",
       "      <td>20401322</td>\n",
       "      <td>HPS_low</td>\n",
       "      <td>2017-06-28 00:00:00</td>\n",
       "      <td>skype</td>\n",
       "      <td>F</td>\n",
       "      <td>41-65</td>\n",
       "      <td>Commercial</td>\n",
       "      <td>type2</td>\n",
       "      <td>Specialist</td>\n",
       "      <td>48.0</td>\n",
       "      <td>46.6</td>\n",
       "      <td>t2</td>\n",
       "    </tr>\n",
       "  </tbody>\n",
       "</table>\n",
       "</div>"
      ],
      "text/plain": [
       "      patient_id  service  date of interaction enrolled_channel gender    age  \\\n",
       "1792    20401322    Email  2017-06-28 00:00:00            skype      F  41-65   \n",
       "1795    20401322    Email  2017-06-28 00:00:00            skype      F  41-65   \n",
       "1797    20401322    Email  2017-06-28 00:00:00            skype      F  41-65   \n",
       "1822    20401322  HPS_low  2017-06-28 00:00:00            skype      F  41-65   \n",
       "1825    20401322  HPS_low  2017-06-28 00:00:00            skype      F  41-65   \n",
       "\n",
       "           payor HCP type enrollment_status  Months on program  \\\n",
       "1792  Commercial    type2        Specialist               48.0   \n",
       "1795  Commercial    type2        Specialist               48.0   \n",
       "1797  Commercial    type2        Specialist               56.0   \n",
       "1822  Commercial    type2        Specialist               48.0   \n",
       "1825  Commercial    type2        Specialist               48.0   \n",
       "\n",
       "      Months on therapy territory  \n",
       "1792               46.6   Unknown  \n",
       "1795               46.6        t2  \n",
       "1797               54.6   Unknown  \n",
       "1822               46.6   Unknown  \n",
       "1825               46.6        t2  "
      ]
     },
     "execution_count": 9,
     "metadata": {},
     "output_type": "execute_result"
    }
   ],
   "source": [
    "df0.head(5)"
   ]
  },
  {
   "cell_type": "code",
   "execution_count": 41,
   "metadata": {},
   "outputs": [],
   "source": [
    "cost = []                 #cost is SSE (sum of squared errors)\n",
    "K = range(1,5)\n",
    "for num_clusters in list(K):\n",
    "    kmode = KModes(n_clusters = num_clusters, init = \"random\", n_init = 3, verbose = False)\n",
    "    #n_init = #times the algorithm will be run with different centroid seeds\n",
    "    kmode.fit_predict(df0)\n",
    "    cost.append(kmode.cost_)"
   ]
  },
  {
   "cell_type": "code",
   "execution_count": 43,
   "metadata": {},
   "outputs": [
    {
     "data": {
      "image/png": "[encoded data removed]",
      "text/plain": [
       "<Figure size 640x480 with 1 Axes>"
      ]
     },
     "metadata": {},
     "output_type": "display_data"
    }
   ],
   "source": [
    "plt.plot(K, cost, 'bx-') \n",
    "plt.xlabel('Number of clusters')\n",
    "plt.ylabel('Cost')\n",
    "plt.title('Elbow Method For Optimal number of clusters')\n",
    "plt.show()"
   ]
  },
  {
   "cell_type": "code",
   "execution_count": 54,
   "metadata": {},
   "outputs": [
    {
     "data": {
      "text/plain": [
       "array([0, 0, 0, ..., 0, 0, 0], dtype=uint16)"
      ]
     },
     "execution_count": 54,
     "metadata": {},
     "output_type": "execute_result"
    }
   ],
   "source": [
    "\n",
    "kmode = KModes(n_clusters = 4, init = \"random\", n_init = 3, verbose = False)\n",
    "clusters = kmode.fit_predict(df0)\n",
    "clusters"
   ]
  },
  {
   "cell_type": "code",
   "execution_count": null,
   "metadata": {},
   "outputs": [],
   "source": []
  },
  {
   "cell_type": "code",
   "execution_count": null,
   "metadata": {},
   "outputs": [],
   "source": []
  },
  {
   "cell_type": "code",
   "execution_count": null,
   "metadata": {},
   "outputs": [],
   "source": []
  },
  {
   "attachments": {},
   "cell_type": "markdown",
   "metadata": {},
   "source": [
    "Feature relevance for categorical variables"
   ]
  },
  {
   "cell_type": "code",
   "execution_count": null,
   "metadata": {},
   "outputs": [],
   "source": [
    "#from scipy.stats import f_oneway\n",
    "\n",
    "#def calc_feature_relevance(df, feature, target):\n",
    "#    idxs_by_class = [df[df[target_name] == v].index for v in df[target_name].unique()]\n",
    "#    groups = [df.loc[class_idxs, feature].values for class_idxs in idxs_by_class]\n",
    "#    return f_oneway(groups).statistic"
   ]
  },
  {
   "cell_type": "code",
   "execution_count": null,
   "metadata": {},
   "outputs": [],
   "source": []
  },
  {
   "cell_type": "code",
   "execution_count": null,
   "metadata": {},
   "outputs": [],
   "source": []
  },
  {
   "cell_type": "code",
   "execution_count": null,
   "metadata": {},
   "outputs": [],
   "source": []
  }
 ],
 "metadata": {
  "kernelspec": {
   "display_name": "Python 3 (ipykernel)",
   "language": "python",
   "name": "python3"
  },
  "language_info": {
   "codemirror_mode": {
    "name": "ipython",
    "version": 3
   },
   "file_extension": ".py",
   "mimetype": "text/x-python",
   "name": "python",
   "nbconvert_exporter": "python",
   "pygments_lexer": "ipython3",
   "version": "3.10.8"
  },
  "vscode": {
   "interpreter": {
    "hash": "42231b65e1786e7daa5ad38de54c2b375375a5c800a17b757e94120e2e33e88e"
   }
  }
 },
 "nbformat": 4,
 "nbformat_minor": 4
}
