{
 "cells": [
  {
   "cell_type": "code",
   "execution_count": 1,
   "metadata": {},
   "outputs": [],
   "source": [
    "import pandas as pd\n",
    "from IPython.display import display, HTML\n",
    "from pyvis import network\n",
    "import networkx as nx\n",
    "import numpy as np"
   ]
  },
  {
   "cell_type": "code",
   "execution_count": 2,
   "metadata": {},
   "outputs": [
    {
     "data": {
      "text/plain": [
       "Index(['Source', 'Uses', 'Examples', 'Size'], dtype='object')"
      ]
     },
     "execution_count": 2,
     "metadata": {},
     "output_type": "execute_result"
    }
   ],
   "source": [
    "df = pd.read_excel(\"python.xlsx\")\n",
    "df.columns"
   ]
  },
  {
   "cell_type": "code",
   "execution_count": 3,
   "metadata": {},
   "outputs": [
    {
     "name": "stdout",
     "output_type": "stream",
     "text": [
      "Warning: When  cdn_resources is 'local' jupyter notebook has issues displaying graphics on chrome/safari. Use cdn_resources='in_line' or cdn_resources='remote' if you have issues viewing graphics in a notebook.\n",
      "graph.html\n"
     ]
    },
    {
     "data": {
      "text/html": [
       "\n",
       "        <iframe\n",
       "            width=\"100%\"\n",
       "            height=\"600px\"\n",
       "            src=\"graph.html\"\n",
       "            frameborder=\"0\"\n",
       "            allowfullscreen\n",
       "            \n",
       "        ></iframe>\n",
       "        "
      ],
      "text/plain": [
       "<IPython.lib.display.IFrame at 0x1f42c35eaa0>"
      ]
     },
     "execution_count": 3,
     "metadata": {},
     "output_type": "execute_result"
    }
   ],
   "source": [
    "g = nx.Graph()\n",
    "\n",
    "for _, row in df.iterrows():\n",
    "    \n",
    "    use = row['Uses'] \n",
    "    tsize = row['Size']\n",
    "    ex = row['Examples']\n",
    "    mm = row['Source']\n",
    "    \n",
    "    hover_info1 = \"Use\"\n",
    "    hover_info2 = \"Example\"\n",
    "        \n",
    "    g.add_node(use, size = tsize*2, title = hover_info1, color = 'Blue', shape = 'square')\n",
    "    g.add_node(ex, title = hover_info2, color = 'Blue') \n",
    "    g.add_edge(mm, use, color = 'Blue')\n",
    "    g.add_edge(use, ex, color = 'Blue')\n",
    "\n",
    "nt = network.Network(height = '600px', width = '100%', bgcolor = \"white\", font_color = 'black', \n",
    "                     neighborhood_highlight = True, directed = True, notebook = True, filter_menu = True)  \n",
    "nt.from_nx(g)\n",
    "nt.show('graph.html')"
   ]
  },
  {
   "cell_type": "code",
   "execution_count": null,
   "metadata": {},
   "outputs": [],
   "source": []
  },
  {
   "cell_type": "code",
   "execution_count": null,
   "metadata": {},
   "outputs": [],
   "source": []
  },
  {
   "cell_type": "code",
   "execution_count": null,
   "metadata": {},
   "outputs": [],
   "source": [
    "#np.random.seed(42)\n",
    "g = nx.Graph()\n",
    "#pos = nx.spring_layout(g, scale = 2)\n",
    "ll = [\"KNOWLEDGE MANAGEMENT\", \"CONSULTATIVE MINDSET\", \"DELIVERY EXCELLENCE\", \"TALENT MANAGEMENT\", \"PEOPLE ENGAGEMENT\"]\n",
    "#mm = ['i1', 'i2', 'i3', 'i4', 'i5']\n",
    "for _, row in df1.iterrows():\n",
    "    \n",
    "    proj = row['Project']\n",
    "    who = row['2IB']\n",
    "    stake = row['Client Stakeholder']\n",
    "    ts = row['Problem Area']\n",
    "    name = '+ Abbvie'\n",
    "    tsize = row['Team Size']\n",
    "    \n",
    "    title1 = f\"{who} {name} {stake}\"\n",
    "    hover_info1 = title1\n",
    "    title2 = f\"Problem Area\"\n",
    "    hover_info2 = title2\n",
    "    hover_info3 = []\n",
    "    title3 = \"Goal\"\n",
    "    hover_info3 = title3        \n",
    "\n",
    "    #if count is not high in general, node size (arg) can be enhanced\n",
    "    g.add_node(proj, size = tsize*4, title = hover_info1, color = 'Blue') #adds a single node at a time\n",
    "    #g.add_nodes_from(\"Hello\") #adds multiple nodes at the same time\n",
    "    g.add_node(ts, title = hover_info2, color = 'Blue') #shape = 'triangle' \n",
    "    g.add_edge(proj, 'AbbVie', color = 'Blue')\n",
    "    g.add_edge(proj, ts, color = 'Gray')\n",
    "    \n",
    "    g.add_nodes_from(ll, title = hover_info3, color = 'Violet' , shape = 'square') #size = 20 \n",
    "    g.add_edges_from([(ll[0], 'AbbVie'), (ll[1], 'AbbVie'), (ll[2], 'AbbVie'), (ll[3], 'AbbVie'), (ll[4], 'AbbVie')], color = 'Violet')\n",
    "    \n",
    "    g.add_node('Document Management', color = 'Violet', shape = 'square')\n",
    "    g.add_edge('Document Management', ll[0], color = 'Gray')    \n",
    "    g.add_node('Knowledge Sharing', color = 'Violet', shape = 'square')\n",
    "    g.add_edge('Knowledge Sharing', ll[0], color = 'Gray')   \n",
    "    \n",
    "    g.add_node('Communicating Client Impact', color = 'Violet', shape = 'square')\n",
    "    g.add_edge('Communicating Client Impact', ll[1], color = 'Gray')\n",
    "    g.add_node('Elevating Customer Experience', color = 'Violet', shape = 'square')\n",
    "    g.add_edge('Elevating Customer Experience', ll[1], color = 'Gray')\n",
    "    \n",
    "    g.add_node('Coding Standards', color = 'Violet', shape = 'square')\n",
    "    g.add_edge('Coding Standards', ll[2], color = 'Gray')\n",
    "    g.add_node('JIRA', color = 'Violet', shape = 'square')\n",
    "    g.add_edge('JIRA', ll[2], color = 'Gray')\n",
    "    g.add_node('Access Management', color = 'Violet', shape = 'square')\n",
    "    g.add_edge('Access Management', ll[2], color = 'Gray')\n",
    "    g.add_node('Quality Audit', color = 'Violet', shape = 'square')\n",
    "    g.add_edge('Quality Audit', ll[2], color = 'Gray')\n",
    "    \n",
    "    g.add_node('Business Context Upskilling', color = 'Violet', shape = 'square')\n",
    "    g.add_edge('Business Context Upskilling', ll[3], color = 'Gray')\n",
    "    g.add_node('Onboarding Process', color = 'Violet', shape = 'square')\n",
    "    g.add_edge('Onboarding Process', ll[3], color = 'Gray')\n",
    "    g.add_node('Mentorship', color = 'Violet', shape = 'square')\n",
    "    g.add_edge('Mentorship', ll[3], color = 'Gray')\n",
    "    \n",
    "    g.add_node('Reward & Recognition', color = 'Violet', shape = 'square')\n",
    "    g.add_edge('Reward & Recognition', ll[4], color = 'Gray')\n",
    "    g.add_node('Wellness', color = 'Violet', shape = 'square')\n",
    "    g.add_edge('Wellness', ll[4], color = 'Gray')\n",
    "    \n",
    "# generate graph\n",
    "nt = network.Network(height = '600px', width = '1200px', bgcolor = \"black\", font_color = 'white', notebook = True, directed = True, neighborhood_highlight = True) #cdn_resources = 'local'\n",
    "nt.from_nx(g)\n",
    "#nt.hrepulsion()\n",
    "nt.show('graph.html')"
   ]
  }
 ],
 "metadata": {
  "kernelspec": {
   "display_name": "Python 3",
   "language": "python",
   "name": "python3"
  },
  "language_info": {
   "codemirror_mode": {
    "name": "ipython",
    "version": 3
   },
   "file_extension": ".py",
   "mimetype": "text/x-python",
   "name": "python",
   "nbconvert_exporter": "python",
   "pygments_lexer": "ipython3",
   "version": "3.10.8"
  },
  "orig_nbformat": 4
 },
 "nbformat": 4,
 "nbformat_minor": 2
}
