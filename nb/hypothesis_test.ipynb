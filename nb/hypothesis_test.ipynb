{
 "cells": [
  {
   "attachments": {},
   "cell_type": "markdown",
   "metadata": {},
   "source": [
    "#Import libraries"
   ]
  },
  {
   "cell_type": "code",
   "execution_count": 12,
   "metadata": {},
   "outputs": [],
   "source": [
    "import pandas as pd\n",
    "import numpy as np\n",
    "\n",
    "#from scipy.stats import chi2_contingency\n",
    "import scipy.stats as ss\n",
    "from sklearn.preprocessing import LabelEncoder"
   ]
  },
  {
   "cell_type": "code",
   "execution_count": 19,
   "metadata": {},
   "outputs": [],
   "source": [
    "#from statsmodels.stats.power import TTestIndPower\n",
    "#from matplotlib import pyplot\n",
    "\n",
    "#PowerAns = TTestIndPower()\n",
    "#effect_sizes = np.array([0.25, 0.95])\n",
    "#sample_sizes = np.array(range(100, 10000))\n",
    "#PowerAns.plot_power(dep_var = 'nobs', nobs = sample_sizes, effect_size = effect_sizes) #es is effect size\n",
    "#pyplot.xlabel('Sample datasize') \n",
    "#pyplot.ylabel('Power')\n",
    "#pyplot.title('Power curve')\n",
    "#pyplot.grid()\n",
    "#pyplot.show()"
   ]
  },
  {
   "cell_type": "code",
   "execution_count": 13,
   "metadata": {},
   "outputs": [],
   "source": [
    "le = LabelEncoder()"
   ]
  },
  {
   "cell_type": "code",
   "execution_count": 1,
   "metadata": {},
   "outputs": [],
   "source": [
    "#df = pd.read_csv('Interaction+demography+payor.csv')\n",
    "#df.info()"
   ]
  },
  {
   "cell_type": "code",
   "execution_count": 5,
   "metadata": {},
   "outputs": [],
   "source": [
    "#df.count()\n",
    "#df.head(5)\n",
    "\n",
    "#df['date of interaction'].max() \n",
    "##Data till May-2022"
   ]
  },
  {
   "cell_type": "code",
   "execution_count": 2,
   "metadata": {},
   "outputs": [],
   "source": [
    "#df[['service', 'gender', 'age','payor','enrolled_channel']] = df[['service', 'gender', 'age','payor','enrolled_channel']].apply(le.fit_transform)\n",
    "#df.head(5)\n"
   ]
  },
  {
   "attachments": {},
   "cell_type": "markdown",
   "metadata": {},
   "source": [
    "AGE & SERVICE"
   ]
  },
  {
   "cell_type": "code",
   "execution_count": 3,
   "metadata": {},
   "outputs": [],
   "source": [
    "#data = df.sample(n = 9000, random_state = 1)\n",
    "\n",
    "#contingency_table = pd.crosstab(data['age'], data['service']) #observed frequency\n",
    "#results = ss.chi2_contingency(contingency_table) #stat, p, dof, expected freq. \n",
    "#results                                          #p-value<5%"
   ]
  },
  {
   "cell_type": "code",
   "execution_count": 4,
   "metadata": {},
   "outputs": [],
   "source": [
    "#ss.chi2_contingency(contingency_table, lambda_ = \"log-likelihood\") #checking with method other than Pearson chi-square\n"
   ]
  },
  {
   "attachments": {},
   "cell_type": "markdown",
   "metadata": {},
   "source": [
    "GENDER & SERVICE"
   ]
  },
  {
   "cell_type": "code",
   "execution_count": 5,
   "metadata": {},
   "outputs": [],
   "source": [
    "#data1 = df.sample(n = 9000, random_state = 1)\n",
    "\n",
    "#contingency_table = pd.crosstab(data1['gender'], data1['service']) #observed frequency\n",
    "#results = ss.chi2_contingency(contingency_table) #stat, p, dof, expected freq. \n",
    "#results                                          #p-value<5%"
   ]
  },
  {
   "cell_type": "code",
   "execution_count": 6,
   "metadata": {},
   "outputs": [],
   "source": [
    "#ss.chi2_contingency(contingency_table, lambda_ = \"log-likelihood\")"
   ]
  },
  {
   "attachments": {},
   "cell_type": "markdown",
   "metadata": {},
   "source": [
    "PAYOR & SERVICE"
   ]
  },
  {
   "cell_type": "code",
   "execution_count": 7,
   "metadata": {},
   "outputs": [],
   "source": [
    "#data2 = df.sample(n = 9000, random_state = 1)\n",
    "\n",
    "#contingency_table = pd.crosstab(data2['payor'], data2['service']) #observed frequency\n",
    "#results = ss.chi2_contingency(contingency_table) #stat, p, dof, expected freq. \n",
    "#results #p-value<5%"
   ]
  },
  {
   "cell_type": "code",
   "execution_count": 8,
   "metadata": {},
   "outputs": [],
   "source": [
    "#ss.chi2_contingency(contingency_table, lambda_ = \"log-likelihood\")"
   ]
  },
  {
   "attachments": {},
   "cell_type": "markdown",
   "metadata": {},
   "source": [
    "ENROLLED CHANNEL & SERVICE"
   ]
  },
  {
   "cell_type": "code",
   "execution_count": 9,
   "metadata": {},
   "outputs": [],
   "source": [
    "#data3 = df.sample(n = 9000, random_state = 1)\n",
    "\n",
    "#contingency_table = pd.crosstab(data3['enrolled_channel'], data3['service']) #observed frequency\n",
    "#results = ss.chi2_contingency(contingency_table) #stat, p, dof, expected freq. \n",
    "#results #p-value<5%"
   ]
  },
  {
   "cell_type": "code",
   "execution_count": 10,
   "metadata": {},
   "outputs": [],
   "source": [
    "#ss.chi2_contingency(contingency_table, lambda_ = \"log-likelihood\")"
   ]
  },
  {
   "attachments": {},
   "cell_type": "markdown",
   "metadata": {},
   "source": [
    "Age, gender, payor, enrolled channel and service are dependent variables as p-value <= 5% "
   ]
  },
  {
   "cell_type": "markdown",
   "metadata": {},
   "source": []
  },
  {
   "cell_type": "code",
   "execution_count": 18,
   "metadata": {},
   "outputs": [
    {
     "name": "stderr",
     "output_type": "stream",
     "text": [
      "C:\\Users\\RanjaSarkar\\AppData\\Local\\Temp\\ipykernel_24404\\3903274542.py:1: DtypeWarning: Columns (1,2) have mixed types. Specify dtype option on import or set low_memory=False.\n",
      "  df1 = pd.read_csv('Interaction+Email.csv')\n"
     ]
    },
    {
     "name": "stdout",
     "output_type": "stream",
     "text": [
      "<class 'pandas.core.frame.DataFrame'>\n",
      "RangeIndex: 2885871 entries, 0 to 2885870\n",
      "Data columns (total 13 columns):\n",
      " #   Column               Dtype  \n",
      "---  ------               -----  \n",
      " 0   patient_id           int64  \n",
      " 1   service              object \n",
      " 2   date of interaction  object \n",
      " 3   account_record_type  object \n",
      " 4   HCP type             object \n",
      " 5   enrollment_status    object \n",
      " 6   Months on program    float64\n",
      " 7   Months on therapy    float64\n",
      " 8   sent_date            object \n",
      " 9   status               object \n",
      " 10  total_opens          float64\n",
      " 11  opened               int64  \n",
      " 12  territory            object \n",
      "dtypes: float64(3), int64(2), object(8)\n",
      "memory usage: 286.2+ MB\n"
     ]
    }
   ],
   "source": [
    "df1 = pd.read_csv('Interaction+Email.csv')\n",
    "df1.info()"
   ]
  },
  {
   "cell_type": "code",
   "execution_count": 19,
   "metadata": {},
   "outputs": [],
   "source": [
    "df1.dropna(subset = ['Months on program', 'Months on therapy'], inplace = True)"
   ]
  },
  {
   "cell_type": "code",
   "execution_count": null,
   "metadata": {},
   "outputs": [],
   "source": [
    "df1.drop(df1[df1[\"Months on program\"] < 0].index, inplace = True)"
   ]
  },
  {
   "cell_type": "code",
   "execution_count": 23,
   "metadata": {},
   "outputs": [
    {
     "data": {
      "text/plain": [
       "patient_id             1807002\n",
       "service                1807002\n",
       "date of interaction    1807002\n",
       "account_record_type    1807002\n",
       "HCP type               1807002\n",
       "enrollment_status      1807002\n",
       "Months on program      1807002\n",
       "Months on therapy      1807002\n",
       "sent_date              1807002\n",
       "status                 1807002\n",
       "total_opens            1807002\n",
       "opened                 1807002\n",
       "territory              1807002\n",
       "dtype: int64"
      ]
     },
     "execution_count": 23,
     "metadata": {},
     "output_type": "execute_result"
    }
   ],
   "source": [
    "df1.count()"
   ]
  },
  {
   "cell_type": "code",
   "execution_count": 21,
   "metadata": {},
   "outputs": [],
   "source": [
    "#df1[['HCP type', 'enrollment_status', 'territory', 'Months on program', 'Months on therapy']].count()"
   ]
  },
  {
   "cell_type": "code",
   "execution_count": 24,
   "metadata": {},
   "outputs": [
    {
     "data": {
      "text/html": [
       "<div>\n",
       "<style scoped>\n",
       "    .dataframe tbody tr th:only-of-type {\n",
       "        vertical-align: middle;\n",
       "    }\n",
       "\n",
       "    .dataframe tbody tr th {\n",
       "        vertical-align: top;\n",
       "    }\n",
       "\n",
       "    .dataframe thead th {\n",
       "        text-align: right;\n",
       "    }\n",
       "</style>\n",
       "<table border=\"1\" class=\"dataframe\">\n",
       "  <thead>\n",
       "    <tr style=\"text-align: right;\">\n",
       "      <th></th>\n",
       "      <th>patient_id</th>\n",
       "      <th>service</th>\n",
       "      <th>date of interaction</th>\n",
       "      <th>account_record_type</th>\n",
       "      <th>HCP type</th>\n",
       "      <th>enrollment_status</th>\n",
       "      <th>Months on program</th>\n",
       "      <th>Months on therapy</th>\n",
       "      <th>sent_date</th>\n",
       "      <th>status</th>\n",
       "      <th>total_opens</th>\n",
       "      <th>opened</th>\n",
       "      <th>territory</th>\n",
       "    </tr>\n",
       "  </thead>\n",
       "  <tbody>\n",
       "    <tr>\n",
       "      <th>448</th>\n",
       "      <td>20401322</td>\n",
       "      <td>2</td>\n",
       "      <td>2017-06-28 00:00:00</td>\n",
       "      <td>Adult</td>\n",
       "      <td>1</td>\n",
       "      <td>7</td>\n",
       "      <td>48.0</td>\n",
       "      <td>46.6</td>\n",
       "      <td>2018-02-01 09:34:00</td>\n",
       "      <td>Delivered</td>\n",
       "      <td>2.0</td>\n",
       "      <td>1</td>\n",
       "      <td>0</td>\n",
       "    </tr>\n",
       "    <tr>\n",
       "      <th>449</th>\n",
       "      <td>20401322</td>\n",
       "      <td>4</td>\n",
       "      <td>2017-06-28 00:00:00</td>\n",
       "      <td>Adult</td>\n",
       "      <td>1</td>\n",
       "      <td>7</td>\n",
       "      <td>48.0</td>\n",
       "      <td>46.6</td>\n",
       "      <td>2018-02-01 09:34:00</td>\n",
       "      <td>Delivered</td>\n",
       "      <td>2.0</td>\n",
       "      <td>1</td>\n",
       "      <td>0</td>\n",
       "    </tr>\n",
       "    <tr>\n",
       "      <th>450</th>\n",
       "      <td>20401322</td>\n",
       "      <td>4</td>\n",
       "      <td>2017-07-05 00:00:00</td>\n",
       "      <td>Adult</td>\n",
       "      <td>1</td>\n",
       "      <td>7</td>\n",
       "      <td>48.0</td>\n",
       "      <td>46.6</td>\n",
       "      <td>2018-02-01 09:34:00</td>\n",
       "      <td>Delivered</td>\n",
       "      <td>2.0</td>\n",
       "      <td>1</td>\n",
       "      <td>0</td>\n",
       "    </tr>\n",
       "    <tr>\n",
       "      <th>451</th>\n",
       "      <td>20401322</td>\n",
       "      <td>8</td>\n",
       "      <td>2017-07-07 00:00:00</td>\n",
       "      <td>Adult</td>\n",
       "      <td>1</td>\n",
       "      <td>7</td>\n",
       "      <td>48.0</td>\n",
       "      <td>46.6</td>\n",
       "      <td>2018-02-01 09:34:00</td>\n",
       "      <td>Delivered</td>\n",
       "      <td>2.0</td>\n",
       "      <td>1</td>\n",
       "      <td>0</td>\n",
       "    </tr>\n",
       "    <tr>\n",
       "      <th>452</th>\n",
       "      <td>20401322</td>\n",
       "      <td>0</td>\n",
       "      <td>2017-07-13 00:00:00</td>\n",
       "      <td>Adult</td>\n",
       "      <td>1</td>\n",
       "      <td>7</td>\n",
       "      <td>48.0</td>\n",
       "      <td>46.6</td>\n",
       "      <td>2018-02-01 09:34:00</td>\n",
       "      <td>Delivered</td>\n",
       "      <td>2.0</td>\n",
       "      <td>1</td>\n",
       "      <td>0</td>\n",
       "    </tr>\n",
       "  </tbody>\n",
       "</table>\n",
       "</div>"
      ],
      "text/plain": [
       "     patient_id  service  date of interaction account_record_type  HCP type  \\\n",
       "448    20401322        2  2017-06-28 00:00:00               Adult         1   \n",
       "449    20401322        4  2017-06-28 00:00:00               Adult         1   \n",
       "450    20401322        4  2017-07-05 00:00:00               Adult         1   \n",
       "451    20401322        8  2017-07-07 00:00:00               Adult         1   \n",
       "452    20401322        0  2017-07-13 00:00:00               Adult         1   \n",
       "\n",
       "     enrollment_status  Months on program  Months on therapy  \\\n",
       "448                  7               48.0               46.6   \n",
       "449                  7               48.0               46.6   \n",
       "450                  7               48.0               46.6   \n",
       "451                  7               48.0               46.6   \n",
       "452                  7               48.0               46.6   \n",
       "\n",
       "               sent_date     status  total_opens  opened  territory  \n",
       "448  2018-02-01 09:34:00  Delivered          2.0       1          0  \n",
       "449  2018-02-01 09:34:00  Delivered          2.0       1          0  \n",
       "450  2018-02-01 09:34:00  Delivered          2.0       1          0  \n",
       "451  2018-02-01 09:34:00  Delivered          2.0       1          0  \n",
       "452  2018-02-01 09:34:00  Delivered          2.0       1          0  "
      ]
     },
     "execution_count": 24,
     "metadata": {},
     "output_type": "execute_result"
    }
   ],
   "source": [
    "df1[['service', 'HCP type', 'enrollment_status', 'territory']] = df1[['service', 'HCP type', 'enrollment_status', 'territory']].apply(le.fit_transform)\n",
    "df1.head(5)"
   ]
  },
  {
   "attachments": {},
   "cell_type": "markdown",
   "metadata": {},
   "source": [
    "HCP TYPE & SERVICE"
   ]
  },
  {
   "cell_type": "code",
   "execution_count": 25,
   "metadata": {},
   "outputs": [
    {
     "data": {
      "text/plain": [
       "(88.71452153803102,\n",
       " 1.692989620503771e-08,\n",
       " 27,\n",
       " array([[4.38670222e+02, 8.91048889e+01, 2.59681556e+02, 1.85375556e+01,\n",
       "         4.93815556e+01, 2.86319556e+02, 1.04371111e+01, 3.20902222e+01,\n",
       "         2.15596444e+02, 2.18088889e+00],\n",
       "        [1.65205333e+02, 3.35573333e+01, 9.77973333e+01, 6.98133333e+00,\n",
       "         1.85973333e+01, 1.07829333e+02, 3.93066667e+00, 1.20853333e+01,\n",
       "         8.11946667e+01, 8.21333333e-01],\n",
       "        [1.02001778e+02, 2.07191111e+01, 6.03824444e+01, 4.31044444e+00,\n",
       "         1.14824444e+01, 6.65764444e+01, 2.42688889e+00, 7.46177778e+00,\n",
       "         5.01315556e+01, 5.07111111e-01],\n",
       "        [2.11012267e+03, 4.28618667e+02, 1.24913867e+03, 8.91706667e+01,\n",
       "         2.37538667e+02, 1.37727467e+03, 5.02053333e+01, 1.54362667e+02,\n",
       "         1.03707733e+03, 1.04906667e+01]]))"
      ]
     },
     "execution_count": 25,
     "metadata": {},
     "output_type": "execute_result"
    }
   ],
   "source": [
    "data0 = df1.sample(n = 9000, random_state = 1)\n",
    "\n",
    "contingency_table = pd.crosstab(data0['HCP type'], data0['service']) #observed frequency\n",
    "results = ss.chi2_contingency(contingency_table) #stat, p, dof, expected freq. \n",
    "results                                          #p-value<5%"
   ]
  },
  {
   "cell_type": "code",
   "execution_count": 26,
   "metadata": {},
   "outputs": [
    {
     "data": {
      "text/plain": [
       "(91.51935169232652,\n",
       " 6.078071348276616e-09,\n",
       " 27,\n",
       " array([[4.38670222e+02, 8.91048889e+01, 2.59681556e+02, 1.85375556e+01,\n",
       "         4.93815556e+01, 2.86319556e+02, 1.04371111e+01, 3.20902222e+01,\n",
       "         2.15596444e+02, 2.18088889e+00],\n",
       "        [1.65205333e+02, 3.35573333e+01, 9.77973333e+01, 6.98133333e+00,\n",
       "         1.85973333e+01, 1.07829333e+02, 3.93066667e+00, 1.20853333e+01,\n",
       "         8.11946667e+01, 8.21333333e-01],\n",
       "        [1.02001778e+02, 2.07191111e+01, 6.03824444e+01, 4.31044444e+00,\n",
       "         1.14824444e+01, 6.65764444e+01, 2.42688889e+00, 7.46177778e+00,\n",
       "         5.01315556e+01, 5.07111111e-01],\n",
       "        [2.11012267e+03, 4.28618667e+02, 1.24913867e+03, 8.91706667e+01,\n",
       "         2.37538667e+02, 1.37727467e+03, 5.02053333e+01, 1.54362667e+02,\n",
       "         1.03707733e+03, 1.04906667e+01]]))"
      ]
     },
     "execution_count": 26,
     "metadata": {},
     "output_type": "execute_result"
    }
   ],
   "source": [
    "ss.chi2_contingency(contingency_table, lambda_ = \"log-likelihood\")"
   ]
  },
  {
   "attachments": {},
   "cell_type": "markdown",
   "metadata": {},
   "source": [
    "Enrollment Status & Service"
   ]
  },
  {
   "cell_type": "code",
   "execution_count": 29,
   "metadata": {},
   "outputs": [
    {
     "data": {
      "text/plain": [
       "(112.45219905070378,\n",
       " 5.403364423691009e-06,\n",
       " 54,\n",
       " array([[3.3244900e+01, 6.7838000e+00, 1.9816400e+01, 1.3803000e+00,\n",
       "         3.8520000e+00, 2.1763800e+01, 8.0250000e-01, 2.4289000e+00,\n",
       "         1.6756200e+01, 1.7120000e-01],\n",
       "        [6.2140000e+00, 1.2680000e+00, 3.7040000e+00, 2.5800000e-01,\n",
       "         7.2000000e-01, 4.0680000e+00, 1.5000000e-01, 4.5400000e-01,\n",
       "         3.1320000e+00, 3.2000000e-02],\n",
       "        [4.9712000e+00, 1.0144000e+00, 2.9632000e+00, 2.0640000e-01,\n",
       "         5.7600000e-01, 3.2544000e+00, 1.2000000e-01, 3.6320000e-01,\n",
       "         2.5056000e+00, 2.5600000e-02],\n",
       "        [6.2140000e-01, 1.2680000e-01, 3.7040000e-01, 2.5800000e-02,\n",
       "         7.2000000e-02, 4.0680000e-01, 1.5000000e-02, 4.5400000e-02,\n",
       "         3.1320000e-01, 3.2000000e-03],\n",
       "        [4.9090600e+01, 1.0017200e+01, 2.9261600e+01, 2.0382000e+00,\n",
       "         5.6880000e+00, 3.2137200e+01, 1.1850000e+00, 3.5866000e+00,\n",
       "         2.4742800e+01, 2.5280000e-01],\n",
       "        [2.1127600e+01, 4.3112000e+00, 1.2593600e+01, 8.7720000e-01,\n",
       "         2.4480000e+00, 1.3831200e+01, 5.1000000e-01, 1.5436000e+00,\n",
       "         1.0648800e+01, 1.0880000e-01],\n",
       "        [2.9917303e+03, 6.1047860e+02, 1.7832908e+03, 1.2421410e+02,\n",
       "         3.4664400e+02, 1.9585386e+03, 7.2217500e+01, 2.1857830e+02,\n",
       "         1.5079014e+03, 1.5406400e+01]]))"
      ]
     },
     "execution_count": 29,
     "metadata": {},
     "output_type": "execute_result"
    }
   ],
   "source": [
    "dat0 = df1.sample(n = 10000, random_state = 1)\n",
    "\n",
    "contingency_table = pd.crosstab(dat0['enrollment_status'], dat0['service']) #observed frequency\n",
    "results = ss.chi2_contingency(contingency_table) #stat, p, dof, expected freq. \n",
    "results                                          #p-value<5%"
   ]
  },
  {
   "cell_type": "code",
   "execution_count": 30,
   "metadata": {},
   "outputs": [
    {
     "data": {
      "text/plain": [
       "(78.79823311803578,\n",
       " 0.01547990364528948,\n",
       " 54,\n",
       " array([[3.3244900e+01, 6.7838000e+00, 1.9816400e+01, 1.3803000e+00,\n",
       "         3.8520000e+00, 2.1763800e+01, 8.0250000e-01, 2.4289000e+00,\n",
       "         1.6756200e+01, 1.7120000e-01],\n",
       "        [6.2140000e+00, 1.2680000e+00, 3.7040000e+00, 2.5800000e-01,\n",
       "         7.2000000e-01, 4.0680000e+00, 1.5000000e-01, 4.5400000e-01,\n",
       "         3.1320000e+00, 3.2000000e-02],\n",
       "        [4.9712000e+00, 1.0144000e+00, 2.9632000e+00, 2.0640000e-01,\n",
       "         5.7600000e-01, 3.2544000e+00, 1.2000000e-01, 3.6320000e-01,\n",
       "         2.5056000e+00, 2.5600000e-02],\n",
       "        [6.2140000e-01, 1.2680000e-01, 3.7040000e-01, 2.5800000e-02,\n",
       "         7.2000000e-02, 4.0680000e-01, 1.5000000e-02, 4.5400000e-02,\n",
       "         3.1320000e-01, 3.2000000e-03],\n",
       "        [4.9090600e+01, 1.0017200e+01, 2.9261600e+01, 2.0382000e+00,\n",
       "         5.6880000e+00, 3.2137200e+01, 1.1850000e+00, 3.5866000e+00,\n",
       "         2.4742800e+01, 2.5280000e-01],\n",
       "        [2.1127600e+01, 4.3112000e+00, 1.2593600e+01, 8.7720000e-01,\n",
       "         2.4480000e+00, 1.3831200e+01, 5.1000000e-01, 1.5436000e+00,\n",
       "         1.0648800e+01, 1.0880000e-01],\n",
       "        [2.9917303e+03, 6.1047860e+02, 1.7832908e+03, 1.2421410e+02,\n",
       "         3.4664400e+02, 1.9585386e+03, 7.2217500e+01, 2.1857830e+02,\n",
       "         1.5079014e+03, 1.5406400e+01]]))"
      ]
     },
     "execution_count": 30,
     "metadata": {},
     "output_type": "execute_result"
    }
   ],
   "source": [
    "ss.chi2_contingency(contingency_table, lambda_ = \"log-likelihood\")"
   ]
  },
  {
   "attachments": {},
   "cell_type": "markdown",
   "metadata": {},
   "source": [
    "Enrollment Territory & Service"
   ]
  },
  {
   "cell_type": "code",
   "execution_count": 31,
   "metadata": {},
   "outputs": [
    {
     "data": {
      "text/plain": [
       "(75.61988026715535,\n",
       " 0.002873332446578163,\n",
       " 45,\n",
       " array([[2.28064711e+03, 4.63256444e+02, 1.35008478e+03, 9.63767778e+01,\n",
       "         2.56734778e+02, 1.48857578e+03, 5.42625556e+01, 1.66837111e+02,\n",
       "         1.12088622e+03, 1.13384444e+01],\n",
       "        [2.31224889e+02, 4.69675556e+01, 1.36879222e+02, 9.77122222e+00,\n",
       "         2.60292222e+01, 1.50920222e+02, 5.50144444e+00, 1.69148889e+01,\n",
       "         1.13641778e+02, 1.14955556e+00],\n",
       "        [1.18584889e+02, 2.40875556e+01, 7.01992222e+01, 5.01122222e+00,\n",
       "         1.33492222e+01, 7.74002222e+01, 2.82144444e+00, 8.67488889e+00,\n",
       "         5.82817778e+01, 5.89555556e-01],\n",
       "        [6.47680000e+01, 1.31560000e+01, 3.83410000e+01, 2.73700000e+00,\n",
       "         7.29100000e+00, 4.22740000e+01, 1.54100000e+00, 4.73800000e+00,\n",
       "         3.18320000e+01, 3.22000000e-01],\n",
       "        [1.62702222e+01, 3.30488889e+00, 9.63155556e+00, 6.87555556e-01,\n",
       "         1.83155556e+00, 1.06195556e+01, 3.87111111e-01, 1.19022222e+00,\n",
       "         7.99644444e+00, 8.08888889e-02],\n",
       "        [1.04504889e+02, 2.12275556e+01, 6.18642222e+01, 4.41622222e+00,\n",
       "         1.17642222e+01, 6.82102222e+01, 2.48644444e+00, 7.64488889e+00,\n",
       "         5.13617778e+01, 5.19555556e-01]]))"
      ]
     },
     "execution_count": 31,
     "metadata": {},
     "output_type": "execute_result"
    }
   ],
   "source": [
    "da0 = df1.sample(n = 9000, random_state = 1)\n",
    "\n",
    "contingency_table = pd.crosstab(da0['territory'], da0['service']) #observed frequency\n",
    "results = ss.chi2_contingency(contingency_table) #stat, p, dof, expected freq. \n",
    "results                                          #p-value<5%"
   ]
  },
  {
   "cell_type": "code",
   "execution_count": 32,
   "metadata": {},
   "outputs": [
    {
     "data": {
      "text/plain": [
       "(72.11051935679481,\n",
       " 0.006305645929797836,\n",
       " 45,\n",
       " array([[2.28064711e+03, 4.63256444e+02, 1.35008478e+03, 9.63767778e+01,\n",
       "         2.56734778e+02, 1.48857578e+03, 5.42625556e+01, 1.66837111e+02,\n",
       "         1.12088622e+03, 1.13384444e+01],\n",
       "        [2.31224889e+02, 4.69675556e+01, 1.36879222e+02, 9.77122222e+00,\n",
       "         2.60292222e+01, 1.50920222e+02, 5.50144444e+00, 1.69148889e+01,\n",
       "         1.13641778e+02, 1.14955556e+00],\n",
       "        [1.18584889e+02, 2.40875556e+01, 7.01992222e+01, 5.01122222e+00,\n",
       "         1.33492222e+01, 7.74002222e+01, 2.82144444e+00, 8.67488889e+00,\n",
       "         5.82817778e+01, 5.89555556e-01],\n",
       "        [6.47680000e+01, 1.31560000e+01, 3.83410000e+01, 2.73700000e+00,\n",
       "         7.29100000e+00, 4.22740000e+01, 1.54100000e+00, 4.73800000e+00,\n",
       "         3.18320000e+01, 3.22000000e-01],\n",
       "        [1.62702222e+01, 3.30488889e+00, 9.63155556e+00, 6.87555556e-01,\n",
       "         1.83155556e+00, 1.06195556e+01, 3.87111111e-01, 1.19022222e+00,\n",
       "         7.99644444e+00, 8.08888889e-02],\n",
       "        [1.04504889e+02, 2.12275556e+01, 6.18642222e+01, 4.41622222e+00,\n",
       "         1.17642222e+01, 6.82102222e+01, 2.48644444e+00, 7.64488889e+00,\n",
       "         5.13617778e+01, 5.19555556e-01]]))"
      ]
     },
     "execution_count": 32,
     "metadata": {},
     "output_type": "execute_result"
    }
   ],
   "source": [
    "ss.chi2_contingency(contingency_table, lambda_ = \"log-likelihood\")"
   ]
  },
  {
   "attachments": {},
   "cell_type": "markdown",
   "metadata": {},
   "source": [
    "HCP type, enrollment status, territory and service are dependent variables as p-value <= 5% "
   ]
  },
  {
   "cell_type": "code",
   "execution_count": 32,
   "metadata": {},
   "outputs": [],
   "source": [
    "#df1['Months on program'].isna().sum()\n",
    "#df1[['Months on program', 'Months on therapy']].count()"
   ]
  },
  {
   "cell_type": "code",
   "execution_count": 33,
   "metadata": {},
   "outputs": [],
   "source": [
    "from scipy.stats import f_oneway"
   ]
  },
  {
   "cell_type": "code",
   "execution_count": 50,
   "metadata": {},
   "outputs": [],
   "source": [
    "dat = df1.sample(n = 100, random_state = 1)"
   ]
  },
  {
   "cell_type": "code",
   "execution_count": 51,
   "metadata": {},
   "outputs": [
    {
     "data": {
      "text/plain": [
       "F_onewayResult(statistic=28.905824192219058, pvalue=2.1273496871985865e-07)"
      ]
     },
     "execution_count": 51,
     "metadata": {},
     "output_type": "execute_result"
    }
   ],
   "source": [
    "f_oneway(dat['Months on therapy'], dat['service'])"
   ]
  },
  {
   "cell_type": "code",
   "execution_count": 52,
   "metadata": {},
   "outputs": [
    {
     "data": {
      "text/plain": [
       "F_onewayResult(statistic=423.37226169478055, pvalue=4.606632631280717e-51)"
      ]
     },
     "execution_count": 52,
     "metadata": {},
     "output_type": "execute_result"
    }
   ],
   "source": [
    "f_oneway(dat['Months on program'], dat['service'])"
   ]
  },
  {
   "attachments": {},
   "cell_type": "markdown",
   "metadata": {},
   "source": [
    "p-value <= 5% ==>> Reject NULL -->> Months on program & months on therapy and service are dependent  "
   ]
  }
 ],
 "metadata": {
  "kernelspec": {
   "display_name": "Python 3 (ipykernel)",
   "language": "python",
   "name": "python3"
  },
  "language_info": {
   "codemirror_mode": {
    "name": "ipython",
    "version": 3
   },
   "file_extension": ".py",
   "mimetype": "text/x-python",
   "name": "python",
   "nbconvert_exporter": "python",
   "pygments_lexer": "ipython3",
   "version": "3.10.8"
  },
  "vscode": {
   "interpreter": {
    "hash": "42231b65e1786e7daa5ad38de54c2b375375a5c800a17b757e94120e2e33e88e"
   }
  }
 },
 "nbformat": 4,
 "nbformat_minor": 4
}
