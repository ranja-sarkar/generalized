{
 "cells": [
  {
   "cell_type": "code",
   "execution_count": 2,
   "metadata": {},
   "outputs": [],
   "source": [
    "import pandas as pd\n",
    "from skimpy import skim"
   ]
  },
  {
   "cell_type": "code",
   "execution_count": 4,
   "metadata": {},
   "outputs": [
    {
     "name": "stderr",
     "output_type": "stream",
     "text": [
      "C:\\Users\\RanjaSarkar\\AppData\\Local\\Temp\\ipykernel_16568\\3395462369.py:1: DtypeWarning: Columns (1,2) have mixed types. Specify dtype option on import or set low_memory=False.\n",
      "  df = pd.read_csv('Interaction+Email.csv')\n"
     ]
    },
    {
     "name": "stdout",
     "output_type": "stream",
     "text": [
      "┌────────────────────────────── skimpy summary ───────────────────────────────┐\n",
      "│          Data Summary                 Data Types                            │\n",
      "│ ┌───────────────────┬─────────┐ ┌─────────────┬───────┐                     │\n",
      "│ │ dataframe         │ Values  │ │ Column Type │ Count │                     │\n",
      "│ ├───────────────────┼─────────┤ ├─────────────┼───────┤                     │\n",
      "│ │ Number of rows    │ 2885871 │ │ string      │ 8     │                     │\n",
      "│ │ Number of columns │ 13      │ │ float64     │ 3     │                     │\n",
      "│ └───────────────────┴─────────┘ │ int32       │ 2     │                     │\n",
      "│                                 └─────────────┴───────┘                     │\n",
      "│                                   number                                    │\n",
      "│ ┌──────┬──────┬──────┬──────┬───────┬──────┬───────┬──────┬───────┬──────┐  │\n",
      "│ │ colu │      │      │      │       │      │       │      │       │      │  │\n",
      "│ │ mn_n │      │      │      │       │      │       │      │       │      │  │\n",
      "│ │ ame  │ NA   │ NA % │ mean │ sd    │ p0   │ p25   │ p75  │ p100  │ hist │  │\n",
      "│ ├──────┼──────┼──────┼──────┼───────┼──────┼───────┼──────┼───────┼──────┤  │\n",
      "│ │ pati │    0 │    0 │ 1300 │ 85000 │ -210 │ 48000 │ 4000 │ 21000 │ ▁▂▁█ │  │\n",
      "│ │ ent_ │      │      │ 0000 │  0000 │ 0000 │     0 │ 0000 │ 00000 │  ▁▂  │  │\n",
      "│ │ id   │      │      │    0 │       │  000 │       │    0 │       │      │  │\n",
      "│ │ Mont │ 6900 │   24 │   48 │    21 │   -1 │    32 │   63 │   120 │ ▃▅█▇ │  │\n",
      "│ │ hs   │   00 │      │      │       │      │       │      │       │      │  │\n",
      "│ │ on   │      │      │      │       │      │       │      │       │      │  │\n",
      "│ │ prog │      │      │      │       │      │       │      │       │      │  │\n",
      "│ │ ram  │      │      │      │       │      │       │      │       │      │  │\n",
      "│ │ Mont │ 9700 │   34 │   65 │    54 │    0 │    48 │   76 │  1400 │  █   │  │\n",
      "│ │ hs   │   00 │      │      │       │      │       │      │       │      │  │\n",
      "│ │ on   │      │      │      │       │      │       │      │       │      │  │\n",
      "│ │ ther │      │      │      │       │      │       │      │       │      │  │\n",
      "│ │ apy  │      │      │      │       │      │       │      │       │      │  │\n",
      "│ │ tota │ 2600 │ 0.08 │  1.9 │   4.8 │    0 │     0 │    2 │   160 │  █   │  │\n",
      "│ │ l_op │      │    9 │      │       │      │       │      │       │      │  │\n",
      "│ │ ens  │      │      │      │       │      │       │      │       │      │  │\n",
      "│ │ open │    0 │    0 │ 0.65 │  0.48 │    0 │     0 │    1 │     1 │  ▄   │  │\n",
      "│ │ ed   │      │      │      │       │      │       │      │       │  █   │  │\n",
      "│ └──────┴──────┴──────┴──────┴───────┴──────┴───────┴──────┴───────┴──────┘  │\n",
      "│                                   string                                    │\n",
      "│ ┌────────────────────────┬───────┬────────┬────────────────┬─────────────┐  │\n",
      "│ │ column_name            │ NA    │ NA %   │ words per row  │ total words │  │\n",
      "│ ├────────────────────────┼───────┼────────┼────────────────┼─────────────┤  │\n",
      "│ │ service                │  2600 │  0.089 │            1.2 │     3600000 │  │\n",
      "│ │ date of interaction    │  2600 │  0.089 │            1.2 │     3600000 │  │\n",
      "│ │ account_record_type    │     0 │      0 │            1.2 │     3600000 │  │\n",
      "│ │ HCP type               │     0 │      0 │            1.2 │     3600000 │  │\n",
      "│ │ enrollment_status      │     0 │      0 │            1.2 │     3600000 │  │\n",
      "│ │ sent_date              │  2100 │  0.071 │            1.2 │     3600000 │  │\n",
      "│ │ status                 │     0 │      0 │            1.2 │     3600000 │  │\n",
      "│ │ territory              │     0 │      0 │            1.2 │     3600000 │  │\n",
      "│ └────────────────────────┴───────┴────────┴────────────────┴─────────────┘  │\n",
      "└──────────────────────────────────── End ────────────────────────────────────┘\n"
     ]
    }
   ],
   "source": [
    "df = pd.read_csv('Interaction+Email.csv')\n",
    "skim(df)"
   ]
  }
 ],
 "metadata": {
  "kernelspec": {
   "display_name": "Python 3",
   "language": "python",
   "name": "python3"
  },
  "language_info": {
   "codemirror_mode": {
    "name": "ipython",
    "version": 3
   },
   "file_extension": ".py",
   "mimetype": "text/x-python",
   "name": "python",
   "nbconvert_exporter": "python",
   "pygments_lexer": "ipython3",
   "version": "3.10.8"
  },
  "orig_nbformat": 4
 },
 "nbformat": 4,
 "nbformat_minor": 2
}
