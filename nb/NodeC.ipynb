{
 "cells": [
  {
   "cell_type": "code",
   "execution_count": null,
   "id": "1f0de04f-66a2-4ee6-a684-5a6f3f5687fd",
   "metadata": {},
   "outputs": [],
   "source": [
    "#import lux\n",
    "#from pandasgui import show\n",
    "\n",
    "#show(df)\n",
    "\n",
    "#!pip install pyvis"
   ]
  },
  {
   "cell_type": "code",
   "execution_count": 10,
   "id": "cf0f8bb8-1b06-493d-89b0-b3339ee6f1a3",
   "metadata": {},
   "outputs": [],
   "source": [
    "import pandas as pd\n",
    "from IPython.display import display, HTML\n",
    "from pyvis import network\n",
    "import networkx as nx\n",
    "import numpy as np\n",
    "#import pyvis"
   ]
  },
  {
   "cell_type": "code",
   "execution_count": 21,
   "id": "e85675f9-db35-43a1-a5b8-0125dbe880d3",
   "metadata": {},
   "outputs": [
    {
     "data": {
      "text/plain": [
       "Index(['Owners', 'Group', 'Work', 'Project', 'Leads', 'Clients', 'Team Size'], dtype='object')"
      ]
     },
     "execution_count": 21,
     "metadata": {},
     "output_type": "execute_result"
    }
   ],
   "source": [
    "df1 = pd.read_excel(\"Test1.xlsx\", sheet_name = 'Ongoing')\n",
    "df1.columns"
   ]
  },
  {
   "cell_type": "code",
   "execution_count": 25,
   "id": "0422f7f0",
   "metadata": {},
   "outputs": [
    {
     "data": {
      "text/plain": [
       "Index(['Client', 'Goal', 'Initiatives'], dtype='object')"
      ]
     },
     "execution_count": 25,
     "metadata": {},
     "output_type": "execute_result"
    }
   ],
   "source": [
    "df2 = pd.read_excel(\"Test1.xlsx\", sheet_name = 'Goals')\n",
    "df2.columns"
   ]
  },
  {
   "cell_type": "code",
   "execution_count": 39,
   "id": "6f62cccd",
   "metadata": {},
   "outputs": [
    {
     "name": "stdout",
     "output_type": "stream",
     "text": [
      "Warning: When  cdn_resources is 'local' jupyter notebook has issues displaying graphics on chrome/safari. Use cdn_resources='in_line' or cdn_resources='remote' if you have issues viewing graphics in a notebook.\n",
      "Ngraph.html\n"
     ]
    },
    {
     "data": {
      "text/html": [
       "\n",
       "        <iframe\n",
       "            width=\"100%\"\n",
       "            height=\"600px\"\n",
       "            src=\"Ngraph.html\"\n",
       "            frameborder=\"0\"\n",
       "            allowfullscreen\n",
       "            \n",
       "        ></iframe>\n",
       "        "
      ],
      "text/plain": [
       "<IPython.lib.display.IFrame at 0x1eb5e3b7fa0>"
      ]
     },
     "execution_count": 39,
     "metadata": {},
     "output_type": "execute_result"
    }
   ],
   "source": [
    "#pyvis.options.Layout(randomSeed = None, improvedLayout = True)\n",
    "g = nx.Graph()\n",
    "\n",
    "for _, row in df1.iterrows():\n",
    "    \n",
    "    proj = row['Project'] #Second Layer of nodes\n",
    "    own = row['Owners'] #hoverinfo\n",
    "    whoM = row['Leads'] #hoverinfo\n",
    "    sg = row['Group'] #First Layer of nodes\n",
    "    whoC = row['Clients'] #hoverinfo\n",
    "    ts = row['Work'] #hoverinfo\n",
    "    #name = '+ Abbvie'\n",
    "    tsize = row['Team Size']\n",
    "    #mm = row['Client']\n",
    "    \n",
    "    #title1 = f\"{who} {name} {stake}\"\n",
    "    title1 = f\"{own} | {whoC}\"\n",
    "    hover_info1 = title1\n",
    "    title2 = f\"{whoM} | {ts}\"\n",
    "    hover_info2 = title2\n",
    "        \n",
    "    g.add_node(sg, title = hover_info1, color = 'Blue')\n",
    "    g.add_node(proj, size = tsize, title = hover_info2, color = 'Blue') \n",
    "    #g.add_node(ts, title = hover_info2, color = 'Blue')  \n",
    "    g.add_edge('AbbVie', sg, color = 'Blue')\n",
    "    #g.add_edge(mm, sg, color = 'Blue')\n",
    "    g.add_edge(proj, sg, color = 'Indigo')\n",
    "\n",
    "for _, row in df2.iterrows():\n",
    "    \n",
    "    gg = row['Goal']\n",
    "    #ss = row['Size']\n",
    "    jj = row['Initiatives']\n",
    "    #nn = row['Client']\n",
    "\n",
    "    title3 = \"Goal\"\n",
    "    hover_info3 = title3   \n",
    "    title4 = 'Initiative'\n",
    "    hover_info4 = title4     \n",
    "\n",
    "    g.add_node(gg, title = hover_info3, color = 'Violet') \n",
    "    g.add_node(jj, title = hover_info4, color = 'Violet')\n",
    "    g.add_edge('AbbVie', gg, color = 'Violet')\n",
    "    #g.add_edge(nn, gg, color = 'Violet')    \n",
    "    g.add_edge(gg, jj, color = 'Pink')\n",
    "\n",
    "g.add_node('MABI Brand Analytics', size = 42, color = 'Yellow', title = 'Expanded project')\n",
    "g.add_node('MABI CoE', size = 36, color = 'Yellow', title = 'Expanded project')\n",
    "g.add_edge('MABI Brand Analytics', 'AbbVie', color = 'Yellow')\n",
    "g.add_edge('MABI CoE', 'AbbVie', color = 'Yellow')\n",
    "g.add_node('Digital Lab', color = 'Yellow', title = 'New project')\n",
    "g.add_edge('Digital Lab', 'AbbVie', color = 'Yellow')\n",
    "\n",
    "nt = network.Network(height = '600px', width = '100%', bgcolor = \"Black\", font_color = 'white', \n",
    "                     neighborhood_highlight = True, notebook = True, filter_menu = True)  #directed = True #layout = True\n",
    "nt.from_nx(g) #edge_scaling = True\n",
    "nt.show('Ngraph.html')"
   ]
  },
  {
   "cell_type": "code",
   "execution_count": null,
   "id": "0933d52c",
   "metadata": {},
   "outputs": [],
   "source": []
  }
 ],
 "metadata": {
  "kernelspec": {
   "display_name": "Python 3 (ipykernel)",
   "language": "python",
   "name": "python3"
  },
  "language_info": {
   "codemirror_mode": {
    "name": "ipython",
    "version": 3
   },
   "file_extension": ".py",
   "mimetype": "text/x-python",
   "name": "python",
   "nbconvert_exporter": "python",
   "pygments_lexer": "ipython3",
   "version": "3.10.8"
  }
 },
 "nbformat": 4,
 "nbformat_minor": 5
}
